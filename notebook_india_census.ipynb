{
 "cells": [
  {
   "cell_type": "code",
   "execution_count": 1,
   "id": "c0715257",
   "metadata": {},
   "outputs": [],
   "source": [
    "import pandas as pd\n",
    "import plotly.express as px\n",
    "import plotly.graph_objects as go"
   ]
  },
  {
   "cell_type": "code",
   "execution_count": 18,
   "id": "ab6156a8",
   "metadata": {},
   "outputs": [
    {
     "data": {
      "text/html": [
       "<div>\n",
       "<style scoped>\n",
       "    .dataframe tbody tr th:only-of-type {\n",
       "        vertical-align: middle;\n",
       "    }\n",
       "\n",
       "    .dataframe tbody tr th {\n",
       "        vertical-align: top;\n",
       "    }\n",
       "\n",
       "    .dataframe thead th {\n",
       "        text-align: right;\n",
       "    }\n",
       "</style>\n",
       "<table border=\"1\" class=\"dataframe\">\n",
       "  <thead>\n",
       "    <tr style=\"text-align: right;\">\n",
       "      <th></th>\n",
       "      <th>District code</th>\n",
       "      <th>District name</th>\n",
       "      <th>Population</th>\n",
       "      <th>Male</th>\n",
       "      <th>Female</th>\n",
       "      <th>Literate</th>\n",
       "      <th>Households_with_Internet</th>\n",
       "      <th>Households_with_Computer</th>\n",
       "    </tr>\n",
       "  </thead>\n",
       "  <tbody>\n",
       "    <tr>\n",
       "      <th>0</th>\n",
       "      <td>1</td>\n",
       "      <td>Kupwara</td>\n",
       "      <td>870354</td>\n",
       "      <td>474190</td>\n",
       "      <td>396164</td>\n",
       "      <td>439654</td>\n",
       "      <td>762</td>\n",
       "      <td>5256</td>\n",
       "    </tr>\n",
       "    <tr>\n",
       "      <th>1</th>\n",
       "      <td>2</td>\n",
       "      <td>Badgam</td>\n",
       "      <td>753745</td>\n",
       "      <td>398041</td>\n",
       "      <td>355704</td>\n",
       "      <td>335649</td>\n",
       "      <td>1999</td>\n",
       "      <td>5892</td>\n",
       "    </tr>\n",
       "    <tr>\n",
       "      <th>2</th>\n",
       "      <td>3</td>\n",
       "      <td>Leh(Ladakh)</td>\n",
       "      <td>133487</td>\n",
       "      <td>78971</td>\n",
       "      <td>54516</td>\n",
       "      <td>93770</td>\n",
       "      <td>574</td>\n",
       "      <td>2150</td>\n",
       "    </tr>\n",
       "    <tr>\n",
       "      <th>3</th>\n",
       "      <td>4</td>\n",
       "      <td>Kargil</td>\n",
       "      <td>140802</td>\n",
       "      <td>77785</td>\n",
       "      <td>63017</td>\n",
       "      <td>86236</td>\n",
       "      <td>235</td>\n",
       "      <td>1005</td>\n",
       "    </tr>\n",
       "    <tr>\n",
       "      <th>4</th>\n",
       "      <td>5</td>\n",
       "      <td>Punch</td>\n",
       "      <td>476835</td>\n",
       "      <td>251899</td>\n",
       "      <td>224936</td>\n",
       "      <td>261724</td>\n",
       "      <td>346</td>\n",
       "      <td>3342</td>\n",
       "    </tr>\n",
       "    <tr>\n",
       "      <th>...</th>\n",
       "      <td>...</td>\n",
       "      <td>...</td>\n",
       "      <td>...</td>\n",
       "      <td>...</td>\n",
       "      <td>...</td>\n",
       "      <td>...</td>\n",
       "      <td>...</td>\n",
       "      <td>...</td>\n",
       "    </tr>\n",
       "    <tr>\n",
       "      <th>635</th>\n",
       "      <td>636</td>\n",
       "      <td>Mahe</td>\n",
       "      <td>41816</td>\n",
       "      <td>19143</td>\n",
       "      <td>22673</td>\n",
       "      <td>36470</td>\n",
       "      <td>574</td>\n",
       "      <td>1484</td>\n",
       "    </tr>\n",
       "    <tr>\n",
       "      <th>636</th>\n",
       "      <td>637</td>\n",
       "      <td>Karaikal</td>\n",
       "      <td>200222</td>\n",
       "      <td>97809</td>\n",
       "      <td>102413</td>\n",
       "      <td>154916</td>\n",
       "      <td>1868</td>\n",
       "      <td>4870</td>\n",
       "    </tr>\n",
       "    <tr>\n",
       "      <th>637</th>\n",
       "      <td>638</td>\n",
       "      <td>Nicobars</td>\n",
       "      <td>36842</td>\n",
       "      <td>20727</td>\n",
       "      <td>16115</td>\n",
       "      <td>25332</td>\n",
       "      <td>57</td>\n",
       "      <td>230</td>\n",
       "    </tr>\n",
       "    <tr>\n",
       "      <th>638</th>\n",
       "      <td>639</td>\n",
       "      <td>North  AND Middle Andaman</td>\n",
       "      <td>105597</td>\n",
       "      <td>54861</td>\n",
       "      <td>50736</td>\n",
       "      <td>78683</td>\n",
       "      <td>388</td>\n",
       "      <td>1193</td>\n",
       "    </tr>\n",
       "    <tr>\n",
       "      <th>639</th>\n",
       "      <td>640</td>\n",
       "      <td>South Andaman</td>\n",
       "      <td>238142</td>\n",
       "      <td>127283</td>\n",
       "      <td>110859</td>\n",
       "      <td>190266</td>\n",
       "      <td>2789</td>\n",
       "      <td>6771</td>\n",
       "    </tr>\n",
       "  </tbody>\n",
       "</table>\n",
       "<p>640 rows × 8 columns</p>\n",
       "</div>"
      ],
      "text/plain": [
       "     District code              District name  Population    Male  Female  \\\n",
       "0                1                    Kupwara      870354  474190  396164   \n",
       "1                2                     Badgam      753745  398041  355704   \n",
       "2                3                Leh(Ladakh)      133487   78971   54516   \n",
       "3                4                     Kargil      140802   77785   63017   \n",
       "4                5                      Punch      476835  251899  224936   \n",
       "..             ...                        ...         ...     ...     ...   \n",
       "635            636                       Mahe       41816   19143   22673   \n",
       "636            637                   Karaikal      200222   97809  102413   \n",
       "637            638                   Nicobars       36842   20727   16115   \n",
       "638            639  North  AND Middle Andaman      105597   54861   50736   \n",
       "639            640              South Andaman      238142  127283  110859   \n",
       "\n",
       "     Literate  Households_with_Internet  Households_with_Computer  \n",
       "0      439654                       762                      5256  \n",
       "1      335649                      1999                      5892  \n",
       "2       93770                       574                      2150  \n",
       "3       86236                       235                      1005  \n",
       "4      261724                       346                      3342  \n",
       "..        ...                       ...                       ...  \n",
       "635     36470                       574                      1484  \n",
       "636    154916                      1868                      4870  \n",
       "637     25332                        57                       230  \n",
       "638     78683                       388                      1193  \n",
       "639    190266                      2789                      6771  \n",
       "\n",
       "[640 rows x 8 columns]"
      ]
     },
     "execution_count": 18,
     "metadata": {},
     "output_type": "execute_result"
    }
   ],
   "source": [
    "india_census = pd.read_csv('india-districts-census-2011.csv')\n",
    "india_census = india_census[['District code','District name','Population','Male','Female','Literate','Households_with_Internet','Households_with_Computer']]\n",
    "india_census"
   ]
  },
  {
   "cell_type": "code",
   "execution_count": 19,
   "id": "5864d229",
   "metadata": {},
   "outputs": [
    {
     "data": {
      "text/html": [
       "<div>\n",
       "<style scoped>\n",
       "    .dataframe tbody tr th:only-of-type {\n",
       "        vertical-align: middle;\n",
       "    }\n",
       "\n",
       "    .dataframe tbody tr th {\n",
       "        vertical-align: top;\n",
       "    }\n",
       "\n",
       "    .dataframe thead th {\n",
       "        text-align: right;\n",
       "    }\n",
       "</style>\n",
       "<table border=\"1\" class=\"dataframe\">\n",
       "  <thead>\n",
       "    <tr style=\"text-align: right;\">\n",
       "      <th></th>\n",
       "      <th>State</th>\n",
       "      <th>District</th>\n",
       "      <th>Latitude</th>\n",
       "      <th>Longitude</th>\n",
       "    </tr>\n",
       "  </thead>\n",
       "  <tbody>\n",
       "    <tr>\n",
       "      <th>0</th>\n",
       "      <td>Andaman and Nicobar</td>\n",
       "      <td>Andaman Islands</td>\n",
       "      <td>12.382571</td>\n",
       "      <td>92.822911</td>\n",
       "    </tr>\n",
       "    <tr>\n",
       "      <th>1</th>\n",
       "      <td>Andaman and Nicobar</td>\n",
       "      <td>Nicobar Islands</td>\n",
       "      <td>7.835291</td>\n",
       "      <td>93.511601</td>\n",
       "    </tr>\n",
       "    <tr>\n",
       "      <th>2</th>\n",
       "      <td>Andhra Pradesh</td>\n",
       "      <td>Adilabad</td>\n",
       "      <td>19.284514</td>\n",
       "      <td>78.813212</td>\n",
       "    </tr>\n",
       "    <tr>\n",
       "      <th>3</th>\n",
       "      <td>Andhra Pradesh</td>\n",
       "      <td>Anantapur</td>\n",
       "      <td>14.312066</td>\n",
       "      <td>77.460158</td>\n",
       "    </tr>\n",
       "    <tr>\n",
       "      <th>4</th>\n",
       "      <td>Andhra Pradesh</td>\n",
       "      <td>Chittoor</td>\n",
       "      <td>13.331093</td>\n",
       "      <td>78.927639</td>\n",
       "    </tr>\n",
       "    <tr>\n",
       "      <th>...</th>\n",
       "      <td>...</td>\n",
       "      <td>...</td>\n",
       "      <td>...</td>\n",
       "      <td>...</td>\n",
       "    </tr>\n",
       "    <tr>\n",
       "      <th>589</th>\n",
       "      <td>West Bengal</td>\n",
       "      <td>North 24 Parganas</td>\n",
       "      <td>22.062388</td>\n",
       "      <td>88.877940</td>\n",
       "    </tr>\n",
       "    <tr>\n",
       "      <th>590</th>\n",
       "      <td>West Bengal</td>\n",
       "      <td>Puruliya</td>\n",
       "      <td>23.254192</td>\n",
       "      <td>86.396853</td>\n",
       "    </tr>\n",
       "    <tr>\n",
       "      <th>591</th>\n",
       "      <td>West Bengal</td>\n",
       "      <td>South 24 Parganas</td>\n",
       "      <td>21.854428</td>\n",
       "      <td>88.445370</td>\n",
       "    </tr>\n",
       "    <tr>\n",
       "      <th>592</th>\n",
       "      <td>West Bengal</td>\n",
       "      <td>Uttar Dinajpur</td>\n",
       "      <td>26.044619</td>\n",
       "      <td>88.235952</td>\n",
       "    </tr>\n",
       "    <tr>\n",
       "      <th>593</th>\n",
       "      <td>West Bengal</td>\n",
       "      <td>West Midnapore</td>\n",
       "      <td>22.354897</td>\n",
       "      <td>87.231014</td>\n",
       "    </tr>\n",
       "  </tbody>\n",
       "</table>\n",
       "<p>594 rows × 4 columns</p>\n",
       "</div>"
      ],
      "text/plain": [
       "                   State           District   Latitude  Longitude\n",
       "0    Andaman and Nicobar    Andaman Islands  12.382571  92.822911\n",
       "1    Andaman and Nicobar    Nicobar Islands   7.835291  93.511601\n",
       "2         Andhra Pradesh           Adilabad  19.284514  78.813212\n",
       "3         Andhra Pradesh          Anantapur  14.312066  77.460158\n",
       "4         Andhra Pradesh           Chittoor  13.331093  78.927639\n",
       "..                   ...                ...        ...        ...\n",
       "589          West Bengal  North 24 Parganas  22.062388  88.877940\n",
       "590          West Bengal           Puruliya  23.254192  86.396853\n",
       "591          West Bengal  South 24 Parganas  21.854428  88.445370\n",
       "592          West Bengal     Uttar Dinajpur  26.044619  88.235952\n",
       "593          West Bengal     West Midnapore  22.354897  87.231014\n",
       "\n",
       "[594 rows x 4 columns]"
      ]
     },
     "execution_count": 19,
     "metadata": {},
     "output_type": "execute_result"
    }
   ],
   "source": [
    "dis_lat_log = pd.read_csv(\"district wise centroids.csv\")\n",
    "dis_lat_log"
   ]
  },
  {
   "cell_type": "code",
   "execution_count": 20,
   "id": "46246859",
   "metadata": {},
   "outputs": [
    {
     "data": {
      "text/html": [
       "<div>\n",
       "<style scoped>\n",
       "    .dataframe tbody tr th:only-of-type {\n",
       "        vertical-align: middle;\n",
       "    }\n",
       "\n",
       "    .dataframe tbody tr th {\n",
       "        vertical-align: top;\n",
       "    }\n",
       "\n",
       "    .dataframe thead th {\n",
       "        text-align: right;\n",
       "    }\n",
       "</style>\n",
       "<table border=\"1\" class=\"dataframe\">\n",
       "  <thead>\n",
       "    <tr style=\"text-align: right;\">\n",
       "      <th></th>\n",
       "      <th>State</th>\n",
       "      <th>District</th>\n",
       "      <th>Latitude</th>\n",
       "      <th>Longitude</th>\n",
       "      <th>District code</th>\n",
       "      <th>District name</th>\n",
       "      <th>Population</th>\n",
       "      <th>Male</th>\n",
       "      <th>Female</th>\n",
       "      <th>Literate</th>\n",
       "      <th>Households_with_Internet</th>\n",
       "      <th>Households_with_Computer</th>\n",
       "    </tr>\n",
       "  </thead>\n",
       "  <tbody>\n",
       "    <tr>\n",
       "      <th>0</th>\n",
       "      <td>Andhra Pradesh</td>\n",
       "      <td>Adilabad</td>\n",
       "      <td>19.284514</td>\n",
       "      <td>78.813212</td>\n",
       "      <td>532</td>\n",
       "      <td>Adilabad</td>\n",
       "      <td>2741239</td>\n",
       "      <td>1369597</td>\n",
       "      <td>1371642</td>\n",
       "      <td>1483347</td>\n",
       "      <td>5512</td>\n",
       "      <td>45202</td>\n",
       "    </tr>\n",
       "    <tr>\n",
       "      <th>1</th>\n",
       "      <td>Andhra Pradesh</td>\n",
       "      <td>Anantapur</td>\n",
       "      <td>14.312066</td>\n",
       "      <td>77.460158</td>\n",
       "      <td>553</td>\n",
       "      <td>Anantapur</td>\n",
       "      <td>4081148</td>\n",
       "      <td>2064495</td>\n",
       "      <td>2016653</td>\n",
       "      <td>2310960</td>\n",
       "      <td>8606</td>\n",
       "      <td>48299</td>\n",
       "    </tr>\n",
       "    <tr>\n",
       "      <th>2</th>\n",
       "      <td>Andhra Pradesh</td>\n",
       "      <td>Chittoor</td>\n",
       "      <td>13.331093</td>\n",
       "      <td>78.927639</td>\n",
       "      <td>554</td>\n",
       "      <td>Chittoor</td>\n",
       "      <td>4174064</td>\n",
       "      <td>2090204</td>\n",
       "      <td>2083860</td>\n",
       "      <td>2667878</td>\n",
       "      <td>13763</td>\n",
       "      <td>67087</td>\n",
       "    </tr>\n",
       "    <tr>\n",
       "      <th>3</th>\n",
       "      <td>Andhra Pradesh</td>\n",
       "      <td>East Godavari</td>\n",
       "      <td>16.782718</td>\n",
       "      <td>82.243207</td>\n",
       "      <td>545</td>\n",
       "      <td>East Godavari</td>\n",
       "      <td>5154296</td>\n",
       "      <td>2569688</td>\n",
       "      <td>2584608</td>\n",
       "      <td>3288577</td>\n",
       "      <td>22411</td>\n",
       "      <td>93784</td>\n",
       "    </tr>\n",
       "    <tr>\n",
       "      <th>4</th>\n",
       "      <td>Andhra Pradesh</td>\n",
       "      <td>Guntur</td>\n",
       "      <td>15.884926</td>\n",
       "      <td>80.586576</td>\n",
       "      <td>548</td>\n",
       "      <td>Guntur</td>\n",
       "      <td>4887813</td>\n",
       "      <td>2440521</td>\n",
       "      <td>2447292</td>\n",
       "      <td>2960441</td>\n",
       "      <td>19383</td>\n",
       "      <td>80434</td>\n",
       "    </tr>\n",
       "    <tr>\n",
       "      <th>...</th>\n",
       "      <td>...</td>\n",
       "      <td>...</td>\n",
       "      <td>...</td>\n",
       "      <td>...</td>\n",
       "      <td>...</td>\n",
       "      <td>...</td>\n",
       "      <td>...</td>\n",
       "      <td>...</td>\n",
       "      <td>...</td>\n",
       "      <td>...</td>\n",
       "      <td>...</td>\n",
       "      <td>...</td>\n",
       "    </tr>\n",
       "    <tr>\n",
       "      <th>512</th>\n",
       "      <td>West Bengal</td>\n",
       "      <td>Maldah</td>\n",
       "      <td>25.080268</td>\n",
       "      <td>88.171917</td>\n",
       "      <td>332</td>\n",
       "      <td>Maldah</td>\n",
       "      <td>3988845</td>\n",
       "      <td>2051541</td>\n",
       "      <td>1937304</td>\n",
       "      <td>2086432</td>\n",
       "      <td>5357</td>\n",
       "      <td>63525</td>\n",
       "    </tr>\n",
       "    <tr>\n",
       "      <th>513</th>\n",
       "      <td>West Bengal</td>\n",
       "      <td>Murshidabad</td>\n",
       "      <td>24.259507</td>\n",
       "      <td>88.168169</td>\n",
       "      <td>333</td>\n",
       "      <td>Murshidabad</td>\n",
       "      <td>7103807</td>\n",
       "      <td>3627564</td>\n",
       "      <td>3476243</td>\n",
       "      <td>4055834</td>\n",
       "      <td>7951</td>\n",
       "      <td>79729</td>\n",
       "    </tr>\n",
       "    <tr>\n",
       "      <th>514</th>\n",
       "      <td>West Bengal</td>\n",
       "      <td>Nadia</td>\n",
       "      <td>23.564110</td>\n",
       "      <td>88.582930</td>\n",
       "      <td>336</td>\n",
       "      <td>Nadia</td>\n",
       "      <td>5167600</td>\n",
       "      <td>2653768</td>\n",
       "      <td>2513832</td>\n",
       "      <td>3480555</td>\n",
       "      <td>12787</td>\n",
       "      <td>77210</td>\n",
       "    </tr>\n",
       "    <tr>\n",
       "      <th>515</th>\n",
       "      <td>West Bengal</td>\n",
       "      <td>Puruliya</td>\n",
       "      <td>23.254192</td>\n",
       "      <td>86.396853</td>\n",
       "      <td>340</td>\n",
       "      <td>Puruliya</td>\n",
       "      <td>2930115</td>\n",
       "      <td>1496996</td>\n",
       "      <td>1433119</td>\n",
       "      <td>1624905</td>\n",
       "      <td>3551</td>\n",
       "      <td>32862</td>\n",
       "    </tr>\n",
       "    <tr>\n",
       "      <th>516</th>\n",
       "      <td>West Bengal</td>\n",
       "      <td>Uttar Dinajpur</td>\n",
       "      <td>26.044619</td>\n",
       "      <td>88.235952</td>\n",
       "      <td>330</td>\n",
       "      <td>Uttar Dinajpur</td>\n",
       "      <td>3007134</td>\n",
       "      <td>1551066</td>\n",
       "      <td>1456068</td>\n",
       "      <td>1489667</td>\n",
       "      <td>2883</td>\n",
       "      <td>31210</td>\n",
       "    </tr>\n",
       "  </tbody>\n",
       "</table>\n",
       "<p>517 rows × 12 columns</p>\n",
       "</div>"
      ],
      "text/plain": [
       "              State        District   Latitude  Longitude  District code  \\\n",
       "0    Andhra Pradesh        Adilabad  19.284514  78.813212            532   \n",
       "1    Andhra Pradesh       Anantapur  14.312066  77.460158            553   \n",
       "2    Andhra Pradesh        Chittoor  13.331093  78.927639            554   \n",
       "3    Andhra Pradesh   East Godavari  16.782718  82.243207            545   \n",
       "4    Andhra Pradesh          Guntur  15.884926  80.586576            548   \n",
       "..              ...             ...        ...        ...            ...   \n",
       "512     West Bengal          Maldah  25.080268  88.171917            332   \n",
       "513     West Bengal     Murshidabad  24.259507  88.168169            333   \n",
       "514     West Bengal           Nadia  23.564110  88.582930            336   \n",
       "515     West Bengal        Puruliya  23.254192  86.396853            340   \n",
       "516     West Bengal  Uttar Dinajpur  26.044619  88.235952            330   \n",
       "\n",
       "      District name  Population     Male   Female  Literate  \\\n",
       "0          Adilabad     2741239  1369597  1371642   1483347   \n",
       "1         Anantapur     4081148  2064495  2016653   2310960   \n",
       "2          Chittoor     4174064  2090204  2083860   2667878   \n",
       "3     East Godavari     5154296  2569688  2584608   3288577   \n",
       "4            Guntur     4887813  2440521  2447292   2960441   \n",
       "..              ...         ...      ...      ...       ...   \n",
       "512          Maldah     3988845  2051541  1937304   2086432   \n",
       "513     Murshidabad     7103807  3627564  3476243   4055834   \n",
       "514           Nadia     5167600  2653768  2513832   3480555   \n",
       "515        Puruliya     2930115  1496996  1433119   1624905   \n",
       "516  Uttar Dinajpur     3007134  1551066  1456068   1489667   \n",
       "\n",
       "     Households_with_Internet  Households_with_Computer  \n",
       "0                        5512                     45202  \n",
       "1                        8606                     48299  \n",
       "2                       13763                     67087  \n",
       "3                       22411                     93784  \n",
       "4                       19383                     80434  \n",
       "..                        ...                       ...  \n",
       "512                      5357                     63525  \n",
       "513                      7951                     79729  \n",
       "514                     12787                     77210  \n",
       "515                      3551                     32862  \n",
       "516                      2883                     31210  \n",
       "\n",
       "[517 rows x 12 columns]"
      ]
     },
     "execution_count": 20,
     "metadata": {},
     "output_type": "execute_result"
    }
   ],
   "source": [
    "final_df = dis_lat_log.merge(india_census, left_on='District', right_on='District name')\n",
    "final_df"
   ]
  },
  {
   "cell_type": "code",
   "execution_count": 21,
   "id": "1a3b1d6e",
   "metadata": {},
   "outputs": [],
   "source": [
    "final_df['sex_ratio'] = round((final_df['Female']/final_df['Male'])*100)"
   ]
  },
  {
   "cell_type": "code",
   "execution_count": 22,
   "id": "c87555e5",
   "metadata": {},
   "outputs": [],
   "source": [
    "final_df['literacy_rate'] = round((final_df['Literate']/final_df['Population'])*100)\n"
   ]
  },
  {
   "cell_type": "code",
   "execution_count": 24,
   "id": "3b1630be",
   "metadata": {},
   "outputs": [],
   "source": [
    "final_df.drop(columns=['Male', 'Female', 'Literate'], inplace=True)"
   ]
  },
  {
   "cell_type": "code",
   "execution_count": 26,
   "id": "94b5ccdb",
   "metadata": {},
   "outputs": [],
   "source": [
    "final_df.to_csv('Summerize_Ind_pop.csv', index=False)"
   ]
  },
  {
   "cell_type": "code",
   "execution_count": 27,
   "id": "33b79a84",
   "metadata": {},
   "outputs": [
    {
     "data": {
      "text/html": [
       "<div>\n",
       "<style scoped>\n",
       "    .dataframe tbody tr th:only-of-type {\n",
       "        vertical-align: middle;\n",
       "    }\n",
       "\n",
       "    .dataframe tbody tr th {\n",
       "        vertical-align: top;\n",
       "    }\n",
       "\n",
       "    .dataframe thead th {\n",
       "        text-align: right;\n",
       "    }\n",
       "</style>\n",
       "<table border=\"1\" class=\"dataframe\">\n",
       "  <thead>\n",
       "    <tr style=\"text-align: right;\">\n",
       "      <th></th>\n",
       "      <th>State</th>\n",
       "      <th>District</th>\n",
       "      <th>Latitude</th>\n",
       "      <th>Longitude</th>\n",
       "      <th>District code</th>\n",
       "      <th>District name</th>\n",
       "      <th>Population</th>\n",
       "      <th>Households_with_Internet</th>\n",
       "      <th>Households_with_Computer</th>\n",
       "      <th>sex_ratio</th>\n",
       "      <th>literacy_rate</th>\n",
       "    </tr>\n",
       "  </thead>\n",
       "  <tbody>\n",
       "    <tr>\n",
       "      <th>0</th>\n",
       "      <td>Andhra Pradesh</td>\n",
       "      <td>Adilabad</td>\n",
       "      <td>19.284514</td>\n",
       "      <td>78.813212</td>\n",
       "      <td>532</td>\n",
       "      <td>Adilabad</td>\n",
       "      <td>2741239</td>\n",
       "      <td>5512</td>\n",
       "      <td>45202</td>\n",
       "      <td>100.0</td>\n",
       "      <td>54.0</td>\n",
       "    </tr>\n",
       "    <tr>\n",
       "      <th>1</th>\n",
       "      <td>Andhra Pradesh</td>\n",
       "      <td>Anantapur</td>\n",
       "      <td>14.312066</td>\n",
       "      <td>77.460158</td>\n",
       "      <td>553</td>\n",
       "      <td>Anantapur</td>\n",
       "      <td>4081148</td>\n",
       "      <td>8606</td>\n",
       "      <td>48299</td>\n",
       "      <td>98.0</td>\n",
       "      <td>57.0</td>\n",
       "    </tr>\n",
       "    <tr>\n",
       "      <th>2</th>\n",
       "      <td>Andhra Pradesh</td>\n",
       "      <td>Chittoor</td>\n",
       "      <td>13.331093</td>\n",
       "      <td>78.927639</td>\n",
       "      <td>554</td>\n",
       "      <td>Chittoor</td>\n",
       "      <td>4174064</td>\n",
       "      <td>13763</td>\n",
       "      <td>67087</td>\n",
       "      <td>100.0</td>\n",
       "      <td>64.0</td>\n",
       "    </tr>\n",
       "    <tr>\n",
       "      <th>3</th>\n",
       "      <td>Andhra Pradesh</td>\n",
       "      <td>East Godavari</td>\n",
       "      <td>16.782718</td>\n",
       "      <td>82.243207</td>\n",
       "      <td>545</td>\n",
       "      <td>East Godavari</td>\n",
       "      <td>5154296</td>\n",
       "      <td>22411</td>\n",
       "      <td>93784</td>\n",
       "      <td>101.0</td>\n",
       "      <td>64.0</td>\n",
       "    </tr>\n",
       "    <tr>\n",
       "      <th>4</th>\n",
       "      <td>Andhra Pradesh</td>\n",
       "      <td>Guntur</td>\n",
       "      <td>15.884926</td>\n",
       "      <td>80.586576</td>\n",
       "      <td>548</td>\n",
       "      <td>Guntur</td>\n",
       "      <td>4887813</td>\n",
       "      <td>19383</td>\n",
       "      <td>80434</td>\n",
       "      <td>100.0</td>\n",
       "      <td>61.0</td>\n",
       "    </tr>\n",
       "    <tr>\n",
       "      <th>...</th>\n",
       "      <td>...</td>\n",
       "      <td>...</td>\n",
       "      <td>...</td>\n",
       "      <td>...</td>\n",
       "      <td>...</td>\n",
       "      <td>...</td>\n",
       "      <td>...</td>\n",
       "      <td>...</td>\n",
       "      <td>...</td>\n",
       "      <td>...</td>\n",
       "      <td>...</td>\n",
       "    </tr>\n",
       "    <tr>\n",
       "      <th>512</th>\n",
       "      <td>West Bengal</td>\n",
       "      <td>Maldah</td>\n",
       "      <td>25.080268</td>\n",
       "      <td>88.171917</td>\n",
       "      <td>332</td>\n",
       "      <td>Maldah</td>\n",
       "      <td>3988845</td>\n",
       "      <td>5357</td>\n",
       "      <td>63525</td>\n",
       "      <td>94.0</td>\n",
       "      <td>52.0</td>\n",
       "    </tr>\n",
       "    <tr>\n",
       "      <th>513</th>\n",
       "      <td>West Bengal</td>\n",
       "      <td>Murshidabad</td>\n",
       "      <td>24.259507</td>\n",
       "      <td>88.168169</td>\n",
       "      <td>333</td>\n",
       "      <td>Murshidabad</td>\n",
       "      <td>7103807</td>\n",
       "      <td>7951</td>\n",
       "      <td>79729</td>\n",
       "      <td>96.0</td>\n",
       "      <td>57.0</td>\n",
       "    </tr>\n",
       "    <tr>\n",
       "      <th>514</th>\n",
       "      <td>West Bengal</td>\n",
       "      <td>Nadia</td>\n",
       "      <td>23.564110</td>\n",
       "      <td>88.582930</td>\n",
       "      <td>336</td>\n",
       "      <td>Nadia</td>\n",
       "      <td>5167600</td>\n",
       "      <td>12787</td>\n",
       "      <td>77210</td>\n",
       "      <td>95.0</td>\n",
       "      <td>67.0</td>\n",
       "    </tr>\n",
       "    <tr>\n",
       "      <th>515</th>\n",
       "      <td>West Bengal</td>\n",
       "      <td>Puruliya</td>\n",
       "      <td>23.254192</td>\n",
       "      <td>86.396853</td>\n",
       "      <td>340</td>\n",
       "      <td>Puruliya</td>\n",
       "      <td>2930115</td>\n",
       "      <td>3551</td>\n",
       "      <td>32862</td>\n",
       "      <td>96.0</td>\n",
       "      <td>55.0</td>\n",
       "    </tr>\n",
       "    <tr>\n",
       "      <th>516</th>\n",
       "      <td>West Bengal</td>\n",
       "      <td>Uttar Dinajpur</td>\n",
       "      <td>26.044619</td>\n",
       "      <td>88.235952</td>\n",
       "      <td>330</td>\n",
       "      <td>Uttar Dinajpur</td>\n",
       "      <td>3007134</td>\n",
       "      <td>2883</td>\n",
       "      <td>31210</td>\n",
       "      <td>94.0</td>\n",
       "      <td>50.0</td>\n",
       "    </tr>\n",
       "  </tbody>\n",
       "</table>\n",
       "<p>517 rows × 11 columns</p>\n",
       "</div>"
      ],
      "text/plain": [
       "              State        District   Latitude  Longitude  District code  \\\n",
       "0    Andhra Pradesh        Adilabad  19.284514  78.813212            532   \n",
       "1    Andhra Pradesh       Anantapur  14.312066  77.460158            553   \n",
       "2    Andhra Pradesh        Chittoor  13.331093  78.927639            554   \n",
       "3    Andhra Pradesh   East Godavari  16.782718  82.243207            545   \n",
       "4    Andhra Pradesh          Guntur  15.884926  80.586576            548   \n",
       "..              ...             ...        ...        ...            ...   \n",
       "512     West Bengal          Maldah  25.080268  88.171917            332   \n",
       "513     West Bengal     Murshidabad  24.259507  88.168169            333   \n",
       "514     West Bengal           Nadia  23.564110  88.582930            336   \n",
       "515     West Bengal        Puruliya  23.254192  86.396853            340   \n",
       "516     West Bengal  Uttar Dinajpur  26.044619  88.235952            330   \n",
       "\n",
       "      District name  Population  Households_with_Internet  \\\n",
       "0          Adilabad     2741239                      5512   \n",
       "1         Anantapur     4081148                      8606   \n",
       "2          Chittoor     4174064                     13763   \n",
       "3     East Godavari     5154296                     22411   \n",
       "4            Guntur     4887813                     19383   \n",
       "..              ...         ...                       ...   \n",
       "512          Maldah     3988845                      5357   \n",
       "513     Murshidabad     7103807                      7951   \n",
       "514           Nadia     5167600                     12787   \n",
       "515        Puruliya     2930115                      3551   \n",
       "516  Uttar Dinajpur     3007134                      2883   \n",
       "\n",
       "     Households_with_Computer  sex_ratio  literacy_rate  \n",
       "0                       45202      100.0           54.0  \n",
       "1                       48299       98.0           57.0  \n",
       "2                       67087      100.0           64.0  \n",
       "3                       93784      101.0           64.0  \n",
       "4                       80434      100.0           61.0  \n",
       "..                        ...        ...            ...  \n",
       "512                     63525       94.0           52.0  \n",
       "513                     79729       96.0           57.0  \n",
       "514                     77210       95.0           67.0  \n",
       "515                     32862       96.0           55.0  \n",
       "516                     31210       94.0           50.0  \n",
       "\n",
       "[517 rows x 11 columns]"
      ]
     },
     "execution_count": 27,
     "metadata": {},
     "output_type": "execute_result"
    }
   ],
   "source": [
    "pd.read_csv('Summerize_Ind_pop.csv')"
   ]
  },
  {
   "cell_type": "code",
   "execution_count": 48,
   "id": "d6d8b4f4",
   "metadata": {},
   "outputs": [
    {
     "data": {
      "application/vnd.plotly.v1+json": {
       "config": {
        "plotlyServerURL": "https://plot.ly"
       },
       "data": [
        {
         "hovertemplate": "Population=%{marker.size}<br>Latitude=%{lat}<br>Longitude=%{lon}<br>Households_with_Internet=%{marker.color}<extra></extra>",
         "lat": {
          "bdata": "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",
          "dtype": "f8"
         },
         "legendgroup": "",
         "lon": {
          "bdata": "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",
          "dtype": "f8"
         },
         "marker": {
          "color": {
           "bdata": "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",
           "dtype": "i4"
          },
          "coloraxis": "coloraxis",
          "size": {
           "bdata": "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",
           "dtype": "i4"
          },
          "sizemode": "area",
          "sizeref": 27650.37
         },
         "mode": "markers",
         "name": "",
         "showlegend": false,
         "subplot": "map",
         "type": "scattermap"
        }
       ],
       "layout": {
        "coloraxis": {
         "colorbar": {
          "title": {
           "text": "Households_with_Internet"
          }
         },
         "colorscale": [
          [
           0,
           "#0d0887"
          ],
          [
           0.1111111111111111,
           "#46039f"
          ],
          [
           0.2222222222222222,
           "#7201a8"
          ],
          [
           0.3333333333333333,
           "#9c179e"
          ],
          [
           0.4444444444444444,
           "#bd3786"
          ],
          [
           0.5555555555555556,
           "#d8576b"
          ],
          [
           0.6666666666666666,
           "#ed7953"
          ],
          [
           0.7777777777777778,
           "#fb9f3a"
          ],
          [
           0.8888888888888888,
           "#fdca26"
          ],
          [
           1,
           "#f0f921"
          ]
         ]
        },
        "legend": {
         "itemsizing": "constant",
         "tracegroupgap": 0
        },
        "map": {
         "center": {
          "lat": 23.32723209718341,
          "lon": 80.91021547921513
         },
         "domain": {
          "x": [
           0,
           1
          ],
          "y": [
           0,
           1
          ]
         },
         "style": "carto-positron",
         "zoom": 3
        },
        "mapbox": {
         "center": {
          "lat": 23.32723209718341,
          "lon": 80.91021547921513
         },
         "style": "carto-positron",
         "zoom": 3
        },
        "margin": {
         "t": 60
        },
        "template": {
         "data": {
          "bar": [
           {
            "error_x": {
             "color": "#2a3f5f"
            },
            "error_y": {
             "color": "#2a3f5f"
            },
            "marker": {
             "line": {
              "color": "#E5ECF6",
              "width": 0.5
             },
             "pattern": {
              "fillmode": "overlay",
              "size": 10,
              "solidity": 0.2
             }
            },
            "type": "bar"
           }
          ],
          "barpolar": [
           {
            "marker": {
             "line": {
              "color": "#E5ECF6",
              "width": 0.5
             },
             "pattern": {
              "fillmode": "overlay",
              "size": 10,
              "solidity": 0.2
             }
            },
            "type": "barpolar"
           }
          ],
          "carpet": [
           {
            "aaxis": {
             "endlinecolor": "#2a3f5f",
             "gridcolor": "white",
             "linecolor": "white",
             "minorgridcolor": "white",
             "startlinecolor": "#2a3f5f"
            },
            "baxis": {
             "endlinecolor": "#2a3f5f",
             "gridcolor": "white",
             "linecolor": "white",
             "minorgridcolor": "white",
             "startlinecolor": "#2a3f5f"
            },
            "type": "carpet"
           }
          ],
          "choropleth": [
           {
            "colorbar": {
             "outlinewidth": 0,
             "ticks": ""
            },
            "type": "choropleth"
           }
          ],
          "contour": [
           {
            "colorbar": {
             "outlinewidth": 0,
             "ticks": ""
            },
            "colorscale": [
             [
              0,
              "#0d0887"
             ],
             [
              0.1111111111111111,
              "#46039f"
             ],
             [
              0.2222222222222222,
              "#7201a8"
             ],
             [
              0.3333333333333333,
              "#9c179e"
             ],
             [
              0.4444444444444444,
              "#bd3786"
             ],
             [
              0.5555555555555556,
              "#d8576b"
             ],
             [
              0.6666666666666666,
              "#ed7953"
             ],
             [
              0.7777777777777778,
              "#fb9f3a"
             ],
             [
              0.8888888888888888,
              "#fdca26"
             ],
             [
              1,
              "#f0f921"
             ]
            ],
            "type": "contour"
           }
          ],
          "contourcarpet": [
           {
            "colorbar": {
             "outlinewidth": 0,
             "ticks": ""
            },
            "type": "contourcarpet"
           }
          ],
          "heatmap": [
           {
            "colorbar": {
             "outlinewidth": 0,
             "ticks": ""
            },
            "colorscale": [
             [
              0,
              "#0d0887"
             ],
             [
              0.1111111111111111,
              "#46039f"
             ],
             [
              0.2222222222222222,
              "#7201a8"
             ],
             [
              0.3333333333333333,
              "#9c179e"
             ],
             [
              0.4444444444444444,
              "#bd3786"
             ],
             [
              0.5555555555555556,
              "#d8576b"
             ],
             [
              0.6666666666666666,
              "#ed7953"
             ],
             [
              0.7777777777777778,
              "#fb9f3a"
             ],
             [
              0.8888888888888888,
              "#fdca26"
             ],
             [
              1,
              "#f0f921"
             ]
            ],
            "type": "heatmap"
           }
          ],
          "histogram": [
           {
            "marker": {
             "pattern": {
              "fillmode": "overlay",
              "size": 10,
              "solidity": 0.2
             }
            },
            "type": "histogram"
           }
          ],
          "histogram2d": [
           {
            "colorbar": {
             "outlinewidth": 0,
             "ticks": ""
            },
            "colorscale": [
             [
              0,
              "#0d0887"
             ],
             [
              0.1111111111111111,
              "#46039f"
             ],
             [
              0.2222222222222222,
              "#7201a8"
             ],
             [
              0.3333333333333333,
              "#9c179e"
             ],
             [
              0.4444444444444444,
              "#bd3786"
             ],
             [
              0.5555555555555556,
              "#d8576b"
             ],
             [
              0.6666666666666666,
              "#ed7953"
             ],
             [
              0.7777777777777778,
              "#fb9f3a"
             ],
             [
              0.8888888888888888,
              "#fdca26"
             ],
             [
              1,
              "#f0f921"
             ]
            ],
            "type": "histogram2d"
           }
          ],
          "histogram2dcontour": [
           {
            "colorbar": {
             "outlinewidth": 0,
             "ticks": ""
            },
            "colorscale": [
             [
              0,
              "#0d0887"
             ],
             [
              0.1111111111111111,
              "#46039f"
             ],
             [
              0.2222222222222222,
              "#7201a8"
             ],
             [
              0.3333333333333333,
              "#9c179e"
             ],
             [
              0.4444444444444444,
              "#bd3786"
             ],
             [
              0.5555555555555556,
              "#d8576b"
             ],
             [
              0.6666666666666666,
              "#ed7953"
             ],
             [
              0.7777777777777778,
              "#fb9f3a"
             ],
             [
              0.8888888888888888,
              "#fdca26"
             ],
             [
              1,
              "#f0f921"
             ]
            ],
            "type": "histogram2dcontour"
           }
          ],
          "mesh3d": [
           {
            "colorbar": {
             "outlinewidth": 0,
             "ticks": ""
            },
            "type": "mesh3d"
           }
          ],
          "parcoords": [
           {
            "line": {
             "colorbar": {
              "outlinewidth": 0,
              "ticks": ""
             }
            },
            "type": "parcoords"
           }
          ],
          "pie": [
           {
            "automargin": true,
            "type": "pie"
           }
          ],
          "scatter": [
           {
            "fillpattern": {
             "fillmode": "overlay",
             "size": 10,
             "solidity": 0.2
            },
            "type": "scatter"
           }
          ],
          "scatter3d": [
           {
            "line": {
             "colorbar": {
              "outlinewidth": 0,
              "ticks": ""
             }
            },
            "marker": {
             "colorbar": {
              "outlinewidth": 0,
              "ticks": ""
             }
            },
            "type": "scatter3d"
           }
          ],
          "scattercarpet": [
           {
            "marker": {
             "colorbar": {
              "outlinewidth": 0,
              "ticks": ""
             }
            },
            "type": "scattercarpet"
           }
          ],
          "scattergeo": [
           {
            "marker": {
             "colorbar": {
              "outlinewidth": 0,
              "ticks": ""
             }
            },
            "type": "scattergeo"
           }
          ],
          "scattergl": [
           {
            "marker": {
             "colorbar": {
              "outlinewidth": 0,
              "ticks": ""
             }
            },
            "type": "scattergl"
           }
          ],
          "scattermap": [
           {
            "marker": {
             "colorbar": {
              "outlinewidth": 0,
              "ticks": ""
             }
            },
            "type": "scattermap"
           }
          ],
          "scattermapbox": [
           {
            "marker": {
             "colorbar": {
              "outlinewidth": 0,
              "ticks": ""
             }
            },
            "type": "scattermapbox"
           }
          ],
          "scatterpolar": [
           {
            "marker": {
             "colorbar": {
              "outlinewidth": 0,
              "ticks": ""
             }
            },
            "type": "scatterpolar"
           }
          ],
          "scatterpolargl": [
           {
            "marker": {
             "colorbar": {
              "outlinewidth": 0,
              "ticks": ""
             }
            },
            "type": "scatterpolargl"
           }
          ],
          "scatterternary": [
           {
            "marker": {
             "colorbar": {
              "outlinewidth": 0,
              "ticks": ""
             }
            },
            "type": "scatterternary"
           }
          ],
          "surface": [
           {
            "colorbar": {
             "outlinewidth": 0,
             "ticks": ""
            },
            "colorscale": [
             [
              0,
              "#0d0887"
             ],
             [
              0.1111111111111111,
              "#46039f"
             ],
             [
              0.2222222222222222,
              "#7201a8"
             ],
             [
              0.3333333333333333,
              "#9c179e"
             ],
             [
              0.4444444444444444,
              "#bd3786"
             ],
             [
              0.5555555555555556,
              "#d8576b"
             ],
             [
              0.6666666666666666,
              "#ed7953"
             ],
             [
              0.7777777777777778,
              "#fb9f3a"
             ],
             [
              0.8888888888888888,
              "#fdca26"
             ],
             [
              1,
              "#f0f921"
             ]
            ],
            "type": "surface"
           }
          ],
          "table": [
           {
            "cells": {
             "fill": {
              "color": "#EBF0F8"
             },
             "line": {
              "color": "white"
             }
            },
            "header": {
             "fill": {
              "color": "#C8D4E3"
             },
             "line": {
              "color": "white"
             }
            },
            "type": "table"
           }
          ]
         },
         "layout": {
          "annotationdefaults": {
           "arrowcolor": "#2a3f5f",
           "arrowhead": 0,
           "arrowwidth": 1
          },
          "autotypenumbers": "strict",
          "coloraxis": {
           "colorbar": {
            "outlinewidth": 0,
            "ticks": ""
           }
          },
          "colorscale": {
           "diverging": [
            [
             0,
             "#8e0152"
            ],
            [
             0.1,
             "#c51b7d"
            ],
            [
             0.2,
             "#de77ae"
            ],
            [
             0.3,
             "#f1b6da"
            ],
            [
             0.4,
             "#fde0ef"
            ],
            [
             0.5,
             "#f7f7f7"
            ],
            [
             0.6,
             "#e6f5d0"
            ],
            [
             0.7,
             "#b8e186"
            ],
            [
             0.8,
             "#7fbc41"
            ],
            [
             0.9,
             "#4d9221"
            ],
            [
             1,
             "#276419"
            ]
           ],
           "sequential": [
            [
             0,
             "#0d0887"
            ],
            [
             0.1111111111111111,
             "#46039f"
            ],
            [
             0.2222222222222222,
             "#7201a8"
            ],
            [
             0.3333333333333333,
             "#9c179e"
            ],
            [
             0.4444444444444444,
             "#bd3786"
            ],
            [
             0.5555555555555556,
             "#d8576b"
            ],
            [
             0.6666666666666666,
             "#ed7953"
            ],
            [
             0.7777777777777778,
             "#fb9f3a"
            ],
            [
             0.8888888888888888,
             "#fdca26"
            ],
            [
             1,
             "#f0f921"
            ]
           ],
           "sequentialminus": [
            [
             0,
             "#0d0887"
            ],
            [
             0.1111111111111111,
             "#46039f"
            ],
            [
             0.2222222222222222,
             "#7201a8"
            ],
            [
             0.3333333333333333,
             "#9c179e"
            ],
            [
             0.4444444444444444,
             "#bd3786"
            ],
            [
             0.5555555555555556,
             "#d8576b"
            ],
            [
             0.6666666666666666,
             "#ed7953"
            ],
            [
             0.7777777777777778,
             "#fb9f3a"
            ],
            [
             0.8888888888888888,
             "#fdca26"
            ],
            [
             1,
             "#f0f921"
            ]
           ]
          },
          "colorway": [
           "#636efa",
           "#EF553B",
           "#00cc96",
           "#ab63fa",
           "#FFA15A",
           "#19d3f3",
           "#FF6692",
           "#B6E880",
           "#FF97FF",
           "#FECB52"
          ],
          "font": {
           "color": "#2a3f5f"
          },
          "geo": {
           "bgcolor": "white",
           "lakecolor": "white",
           "landcolor": "#E5ECF6",
           "showlakes": true,
           "showland": true,
           "subunitcolor": "white"
          },
          "hoverlabel": {
           "align": "left"
          },
          "hovermode": "closest",
          "mapbox": {
           "style": "light"
          },
          "paper_bgcolor": "white",
          "plot_bgcolor": "#E5ECF6",
          "polar": {
           "angularaxis": {
            "gridcolor": "white",
            "linecolor": "white",
            "ticks": ""
           },
           "bgcolor": "#E5ECF6",
           "radialaxis": {
            "gridcolor": "white",
            "linecolor": "white",
            "ticks": ""
           }
          },
          "scene": {
           "xaxis": {
            "backgroundcolor": "#E5ECF6",
            "gridcolor": "white",
            "gridwidth": 2,
            "linecolor": "white",
            "showbackground": true,
            "ticks": "",
            "zerolinecolor": "white"
           },
           "yaxis": {
            "backgroundcolor": "#E5ECF6",
            "gridcolor": "white",
            "gridwidth": 2,
            "linecolor": "white",
            "showbackground": true,
            "ticks": "",
            "zerolinecolor": "white"
           },
           "zaxis": {
            "backgroundcolor": "#E5ECF6",
            "gridcolor": "white",
            "gridwidth": 2,
            "linecolor": "white",
            "showbackground": true,
            "ticks": "",
            "zerolinecolor": "white"
           }
          },
          "shapedefaults": {
           "line": {
            "color": "#2a3f5f"
           }
          },
          "ternary": {
           "aaxis": {
            "gridcolor": "white",
            "linecolor": "white",
            "ticks": ""
           },
           "baxis": {
            "gridcolor": "white",
            "linecolor": "white",
            "ticks": ""
           },
           "bgcolor": "#E5ECF6",
           "caxis": {
            "gridcolor": "white",
            "linecolor": "white",
            "ticks": ""
           }
          },
          "title": {
           "x": 0.05
          },
          "xaxis": {
           "automargin": true,
           "gridcolor": "white",
           "linecolor": "white",
           "ticks": "",
           "title": {
            "standoff": 15
           },
           "zerolinecolor": "white",
           "zerolinewidth": 2
          },
          "yaxis": {
           "automargin": true,
           "gridcolor": "white",
           "linecolor": "white",
           "ticks": "",
           "title": {
            "standoff": 15
           },
           "zerolinecolor": "white",
           "zerolinewidth": 2
          }
         }
        }
       }
      }
     },
     "metadata": {},
     "output_type": "display_data"
    }
   ],
   "source": [
    "df = px.data.carshare()\n",
    "fig = px.scatter_map(final_df, lat=\"Latitude\", lon=\"Longitude\", size=\"Population\", color=\"Households_with_Internet\",\n",
    "                  zoom=3,\n",
    "                  map_style=\"carto-positron\")\n",
    "fig.show()"
   ]
  },
  {
   "cell_type": "code",
   "execution_count": null,
   "id": "4a6fabdc",
   "metadata": {},
   "outputs": [],
   "source": []
  },
  {
   "cell_type": "code",
   "execution_count": null,
   "id": "1695f2c8",
   "metadata": {},
   "outputs": [],
   "source": []
  },
  {
   "cell_type": "code",
   "execution_count": null,
   "id": "834d6ef6",
   "metadata": {},
   "outputs": [],
   "source": []
  },
  {
   "cell_type": "code",
   "execution_count": null,
   "id": "1947debb",
   "metadata": {},
   "outputs": [],
   "source": []
  },
  {
   "cell_type": "code",
   "execution_count": null,
   "id": "b0b940c0",
   "metadata": {},
   "outputs": [],
   "source": []
  },
  {
   "cell_type": "code",
   "execution_count": null,
   "id": "c63ee935",
   "metadata": {},
   "outputs": [],
   "source": []
  },
  {
   "cell_type": "code",
   "execution_count": null,
   "id": "1894869d",
   "metadata": {},
   "outputs": [],
   "source": []
  }
 ],
 "metadata": {
  "kernelspec": {
   "display_name": "Python 3",
   "language": "python",
   "name": "python3"
  },
  "language_info": {
   "codemirror_mode": {
    "name": "ipython",
    "version": 3
   },
   "file_extension": ".py",
   "mimetype": "text/x-python",
   "name": "python",
   "nbconvert_exporter": "python",
   "pygments_lexer": "ipython3",
   "version": "3.13.7"
  }
 },
 "nbformat": 4,
 "nbformat_minor": 5
}
